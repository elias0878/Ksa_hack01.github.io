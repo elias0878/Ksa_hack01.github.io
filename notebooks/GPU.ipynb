{
  "cells": [
    {
      "cell_type": "markdown",
      "metadata": {
        "id": "view-in-github",
        "colab_type": "text"
      },
      "source": [
        "<a href=\"https://colab.research.google.com/github/elias0878/Ksa_hack01.github.io/blob/main/notebooks/GPU.ipynb\" target=\"_parent\"><img src=\"https://colab.research.google.com/assets/colab-badge.svg\" alt=\"Open In Colab\"/></a>"
      ]
    },
    {
      "cell_type": "markdown",
      "metadata": {
        "id": "-6f7l_mQEzp9"
      },
      "source": [
        "Due to Colab cracking down on this notebook, we've been forced to take it offline for a while. We're really, really sorry about this.\n",
        "Please find other, alternative ways to use Pygmalion 6B.\n",
        "\n",
        "We'll try to be back soon. Our deepest apologies."
      ]
    },
    {
      "cell_type": "markdown",
      "metadata": {
        "id": "6g2m9HV-EzqA"
      },
      "source": []
    },
    {
      "cell_type": "code",
      "source": [
        "!ls\n"
      ],
      "metadata": {
        "colab": {
          "base_uri": "https://localhost:8080/"
        },
        "id": "vatB_5MWE2fz",
        "outputId": "bfbfff7f-e960-4262-a914-6123a03b9756"
      },
      "execution_count": 1,
      "outputs": [
        {
          "output_type": "stream",
          "name": "stdout",
          "text": [
            "sample_data\n"
          ]
        }
      ]
    }
  ],
  "metadata": {
    "accelerator": "GPU",
    "colab": {
      "provenance": [],
      "include_colab_link": true
    },
    "gpuClass": "standard",
    "kernelspec": {
      "display_name": "Python 3",
      "name": "python3"
    },
    "language_info": {
      "name": "python"
    }
  },
  "nbformat": 4,
  "nbformat_minor": 0
}